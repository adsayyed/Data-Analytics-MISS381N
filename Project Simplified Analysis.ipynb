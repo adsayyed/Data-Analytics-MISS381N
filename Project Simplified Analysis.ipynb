{
 "cells": [
  {
   "cell_type": "code",
   "execution_count": 2,
   "metadata": {},
   "outputs": [
    {
     "name": "stdout",
     "output_type": "stream",
     "text": [
      "Populating the interactive namespace from numpy and matplotlib\n"
     ]
    }
   ],
   "source": [
    "from pandas import Series, DataFrame\n",
    "import pandas as pd\n",
    "%pylab inline"
   ]
  },
  {
   "cell_type": "code",
   "execution_count": 3,
   "metadata": {},
   "outputs": [
    {
     "data": {
      "text/plain": [
       "color                                                                    Color\n",
       "director_name                                                    James Cameron\n",
       "num_critic_for_reviews                                                     723\n",
       "duration                                                                   178\n",
       "director_facebook_likes                                                      0\n",
       "actor_3_facebook_likes                                                     855\n",
       "actor_2_name                                                  Joel David Moore\n",
       "actor_1_facebook_likes                                                    1000\n",
       "gross                                                              7.60506e+08\n",
       "genres                                         Action|Adventure|Fantasy|Sci-Fi\n",
       "actor_1_name                                                       CCH Pounder\n",
       "movie_title                                                             Avatar\n",
       "num_voted_users                                                         886204\n",
       "cast_total_facebook_likes                                                 4834\n",
       "actor_3_name                                                         Wes Studi\n",
       "facenumber_in_poster                                                         0\n",
       "plot_keywords                           avatar|future|marine|native|paraplegic\n",
       "movie_imdb_link              http://www.imdb.com/title/tt0499549/?ref_=fn_t...\n",
       "num_user_for_reviews                                                      3054\n",
       "language                                                               English\n",
       "country                                                                    USA\n",
       "content_rating                                                           PG-13\n",
       "budget                                                                2.37e+08\n",
       "title_year                                                                2009\n",
       "actor_2_facebook_likes                                                     936\n",
       "imdb_score                                                                 7.9\n",
       "aspect_ratio                                                              1.78\n",
       "movie_facebook_likes                                                     33000\n",
       "Name: 0, dtype: object"
      ]
     },
     "execution_count": 3,
     "metadata": {},
     "output_type": "execute_result"
    }
   ],
   "source": [
    "df = pd.read_csv('movie.csv')\n",
    "df.iloc[0]"
   ]
  },
  {
   "cell_type": "code",
   "execution_count": 4,
   "metadata": {},
   "outputs": [
    {
     "data": {
      "text/plain": [
       "array(['color', 'director_name', 'num_critic_for_reviews', 'duration',\n",
       "       'director_facebook_likes', 'actor_3_facebook_likes',\n",
       "       'actor_2_name', 'actor_1_facebook_likes', 'gross', 'genres',\n",
       "       'actor_1_name', 'movie_title', 'num_voted_users',\n",
       "       'cast_total_facebook_likes', 'actor_3_name',\n",
       "       'facenumber_in_poster', 'plot_keywords', 'movie_imdb_link',\n",
       "       'num_user_for_reviews', 'language', 'country', 'content_rating',\n",
       "       'budget', 'title_year', 'actor_2_facebook_likes', 'imdb_score',\n",
       "       'aspect_ratio', 'movie_facebook_likes'], dtype=object)"
      ]
     },
     "execution_count": 4,
     "metadata": {},
     "output_type": "execute_result"
    }
   ],
   "source": [
    "df.columns.values"
   ]
  },
  {
   "cell_type": "code",
   "execution_count": 5,
   "metadata": {},
   "outputs": [
    {
     "data": {
      "text/plain": [
       "color                                                                    Color\n",
       "director_name                                                    James Cameron\n",
       "num_critic_for_reviews                                                     723\n",
       "duration                                                                   178\n",
       "director_facebook_likes                                                      0\n",
       "actor_3_facebook_likes                                                     855\n",
       "actor_2_name                                                  Joel David Moore\n",
       "actor_1_facebook_likes                                                    1000\n",
       "gross                                                              7.60506e+08\n",
       "genres                                         Action|Adventure|Fantasy|Sci-Fi\n",
       "actor_1_name                                                       CCH Pounder\n",
       "movie_title                                                             Avatar\n",
       "num_voted_users                                                         886204\n",
       "cast_total_facebook_likes                                                 4834\n",
       "actor_3_name                                                         Wes Studi\n",
       "facenumber_in_poster                                                         0\n",
       "plot_keywords                           avatar|future|marine|native|paraplegic\n",
       "movie_imdb_link              http://www.imdb.com/title/tt0499549/?ref_=fn_t...\n",
       "num_user_for_reviews                                                      3054\n",
       "language                                                               English\n",
       "country                                                                    USA\n",
       "content_rating                                                           PG-13\n",
       "budget                                                                2.37e+08\n",
       "title_year                                                                2009\n",
       "actor_2_facebook_likes                                                     936\n",
       "imdb_score                                                                 7.9\n",
       "aspect_ratio                                                              1.78\n",
       "movie_facebook_likes                                                     33000\n",
       "Name: 0, dtype: object"
      ]
     },
     "execution_count": 5,
     "metadata": {},
     "output_type": "execute_result"
    }
   ],
   "source": [
    "df.loc[0]"
   ]
  },
  {
   "cell_type": "markdown",
   "metadata": {},
   "source": [
    "#  Top 15 Directors"
   ]
  },
  {
   "cell_type": "code",
   "execution_count": 6,
   "metadata": {},
   "outputs": [
    {
     "data": {
      "text/plain": [
       "<matplotlib.axes._subplots.AxesSubplot at 0x7fc520f64490>"
      ]
     },
     "execution_count": 6,
     "metadata": {},
     "output_type": "execute_result"
    },
    {
     "data": {
      "image/png": "[encoded data removed]",
      "text/plain": [
       "<Figure size 432x288 with 1 Axes>"
      ]
     },
     "metadata": {
      "needs_background": "light"
     },
     "output_type": "display_data"
    }
   ],
   "source": [
    "df['director_name'].value_counts()[:15].plot(kind='bar')"
   ]
  },
  {
   "cell_type": "code",
   "execution_count": 8,
   "metadata": {},
   "outputs": [
    {
     "data": {
      "text/plain": [
       "Air Force One                          1\n",
       "Domino                                 1\n",
       "Killing Them Softly                    1\n",
       "Little Women                           1\n",
       "The Green Inferno                      1\n",
       "                                      ..\n",
       "Race to Witch Mountain                 1\n",
       "What's the Worst That Could Happen?    1\n",
       "Wah-Wah                                1\n",
       "Swordfish                              1\n",
       "Blood Done Sign My Name                1\n",
       "Name: movie_title, Length: 4916, dtype: int64"
      ]
     },
     "execution_count": 8,
     "metadata": {},
     "output_type": "execute_result"
    }
   ],
   "source": [
    "# idk what this was supposed to show\n",
    "df[['movie_title', 'imdb_score']]['movie_title'].value_counts()"
   ]
  },
  {
   "cell_type": "code",
   "execution_count": null,
   "metadata": {},
   "outputs": [],
   "source": []
  },
  {
   "cell_type": "code",
   "execution_count": null,
   "metadata": {},
   "outputs": [],
   "source": []
  }
 ],
 "metadata": {
  "kernelspec": {
   "display_name": "Python 3",
   "language": "python",
   "name": "python3"
  },
  "language_info": {
   "codemirror_mode": {
    "name": "ipython",
    "version": 3
   },
   "file_extension": ".py",
   "mimetype": "text/x-python",
   "name": "python",
   "nbconvert_exporter": "python",
   "pygments_lexer": "ipython3",
   "version": "3.7.6"
  }
 },
 "nbformat": 4,
 "nbformat_minor": 4
}
